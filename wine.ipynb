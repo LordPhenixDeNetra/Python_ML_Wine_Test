{
 "cells": [
  {
   "cell_type": "code",
   "execution_count": 5,
   "outputs": [],
   "source": [
    "import warnings\n",
    "warnings.filterwarnings(\"ignore\")"
   ],
   "metadata": {
    "collapsed": false,
    "ExecuteTime": {
     "end_time": "2024-02-14T20:20:26.162454300Z",
     "start_time": "2024-02-14T20:20:25.990544100Z"
    }
   },
   "id": "bd5819f924c3c802"
  },
  {
   "cell_type": "code",
   "execution_count": 6,
   "id": "initial_id",
   "metadata": {
    "collapsed": true,
    "ExecuteTime": {
     "end_time": "2024-02-14T20:20:26.365545700Z",
     "start_time": "2024-02-14T20:20:25.990544100Z"
    }
   },
   "outputs": [],
   "source": [
    "import pandas as pd\n",
    "import numpy as np\n",
    "import matplotlib.pyplot as plt\n"
   ]
  },
  {
   "cell_type": "code",
   "execution_count": 7,
   "outputs": [
    {
     "data": {
      "text/plain": "     class  Alcohol  Malicacid   Ash  Alcalinity_of_ash  Magnesium  \\\n0        1    14.23       1.71  2.43               15.6      127.0   \n1        1    13.20       1.78  2.14               11.2      100.0   \n2        1    13.16       2.36  2.67               18.6      101.0   \n3        1    14.37       1.95  2.50               16.8      113.0   \n4        1    13.24       2.59  2.87               21.0      118.0   \n..     ...      ...        ...   ...                ...        ...   \n190      2    11.87        NaN  2.39               21.0        NaN   \n191      2    11.79        NaN  2.78               28.5        NaN   \n192      2    12.37        NaN  2.30               24.5        NaN   \n193      3    12.88        NaN  2.40               20.0        NaN   \n194      3    12.81        NaN  2.40               24.0        NaN   \n\n     Total_phenols  Flavanoids  Nonflavanoid_phenols  Proanthocyanins  \\\n0             2.80        3.06                  0.28             2.29   \n1             2.65        2.76                  0.26             1.28   \n2             2.80        3.24                  0.30             2.81   \n3             3.85        3.49                  0.24             2.18   \n4             2.80        2.69                  0.39             1.82   \n..             ...         ...                   ...              ...   \n190           2.86        3.03                  0.21             2.91   \n191           2.13        2.24                  0.58             1.76   \n192           2.22        2.45                  0.40             1.90   \n193           1.30        1.22                  0.24             0.83   \n194           1.15        1.09                  0.27             0.83   \n\n     Color_intensity   Hue  OD280/OD315_of_diluted_wines  Proline  \n0               5.64  1.04                          3.92     1065  \n1               4.38  1.05                          3.40     1050  \n2               5.68  1.03                          3.17     1185  \n3               7.80  0.86                          3.45     1480  \n4               4.32  1.04                          2.93      735  \n..               ...   ...                           ...      ...  \n190             2.80   NaN                          3.64      380  \n191             3.00   NaN                          2.44      466  \n192             2.12   NaN                          2.78      342  \n193             5.40   NaN                          1.42      530  \n194             5.70   NaN                          1.36      560  \n\n[195 rows x 14 columns]",
      "text/html": "<div>\n<style scoped>\n    .dataframe tbody tr th:only-of-type {\n        vertical-align: middle;\n    }\n\n    .dataframe tbody tr th {\n        vertical-align: top;\n    }\n\n    .dataframe thead th {\n        text-align: right;\n    }\n</style>\n<table border=\"1\" class=\"dataframe\">\n  <thead>\n    <tr style=\"text-align: right;\">\n      <th></th>\n      <th>class</th>\n      <th>Alcohol</th>\n      <th>Malicacid</th>\n      <th>Ash</th>\n      <th>Alcalinity_of_ash</th>\n      <th>Magnesium</th>\n      <th>Total_phenols</th>\n      <th>Flavanoids</th>\n      <th>Nonflavanoid_phenols</th>\n      <th>Proanthocyanins</th>\n      <th>Color_intensity</th>\n      <th>Hue</th>\n      <th>OD280/OD315_of_diluted_wines</th>\n      <th>Proline</th>\n    </tr>\n  </thead>\n  <tbody>\n    <tr>\n      <th>0</th>\n      <td>1</td>\n      <td>14.23</td>\n      <td>1.71</td>\n      <td>2.43</td>\n      <td>15.6</td>\n      <td>127.0</td>\n      <td>2.80</td>\n      <td>3.06</td>\n      <td>0.28</td>\n      <td>2.29</td>\n      <td>5.64</td>\n      <td>1.04</td>\n      <td>3.92</td>\n      <td>1065</td>\n    </tr>\n    <tr>\n      <th>1</th>\n      <td>1</td>\n      <td>13.20</td>\n      <td>1.78</td>\n      <td>2.14</td>\n      <td>11.2</td>\n      <td>100.0</td>\n      <td>2.65</td>\n      <td>2.76</td>\n      <td>0.26</td>\n      <td>1.28</td>\n      <td>4.38</td>\n      <td>1.05</td>\n      <td>3.40</td>\n      <td>1050</td>\n    </tr>\n    <tr>\n      <th>2</th>\n      <td>1</td>\n      <td>13.16</td>\n      <td>2.36</td>\n      <td>2.67</td>\n      <td>18.6</td>\n      <td>101.0</td>\n      <td>2.80</td>\n      <td>3.24</td>\n      <td>0.30</td>\n      <td>2.81</td>\n      <td>5.68</td>\n      <td>1.03</td>\n      <td>3.17</td>\n      <td>1185</td>\n    </tr>\n    <tr>\n      <th>3</th>\n      <td>1</td>\n      <td>14.37</td>\n      <td>1.95</td>\n      <td>2.50</td>\n      <td>16.8</td>\n      <td>113.0</td>\n      <td>3.85</td>\n      <td>3.49</td>\n      <td>0.24</td>\n      <td>2.18</td>\n      <td>7.80</td>\n      <td>0.86</td>\n      <td>3.45</td>\n      <td>1480</td>\n    </tr>\n    <tr>\n      <th>4</th>\n      <td>1</td>\n      <td>13.24</td>\n      <td>2.59</td>\n      <td>2.87</td>\n      <td>21.0</td>\n      <td>118.0</td>\n      <td>2.80</td>\n      <td>2.69</td>\n      <td>0.39</td>\n      <td>1.82</td>\n      <td>4.32</td>\n      <td>1.04</td>\n      <td>2.93</td>\n      <td>735</td>\n    </tr>\n    <tr>\n      <th>...</th>\n      <td>...</td>\n      <td>...</td>\n      <td>...</td>\n      <td>...</td>\n      <td>...</td>\n      <td>...</td>\n      <td>...</td>\n      <td>...</td>\n      <td>...</td>\n      <td>...</td>\n      <td>...</td>\n      <td>...</td>\n      <td>...</td>\n      <td>...</td>\n    </tr>\n    <tr>\n      <th>190</th>\n      <td>2</td>\n      <td>11.87</td>\n      <td>NaN</td>\n      <td>2.39</td>\n      <td>21.0</td>\n      <td>NaN</td>\n      <td>2.86</td>\n      <td>3.03</td>\n      <td>0.21</td>\n      <td>2.91</td>\n      <td>2.80</td>\n      <td>NaN</td>\n      <td>3.64</td>\n      <td>380</td>\n    </tr>\n    <tr>\n      <th>191</th>\n      <td>2</td>\n      <td>11.79</td>\n      <td>NaN</td>\n      <td>2.78</td>\n      <td>28.5</td>\n      <td>NaN</td>\n      <td>2.13</td>\n      <td>2.24</td>\n      <td>0.58</td>\n      <td>1.76</td>\n      <td>3.00</td>\n      <td>NaN</td>\n      <td>2.44</td>\n      <td>466</td>\n    </tr>\n    <tr>\n      <th>192</th>\n      <td>2</td>\n      <td>12.37</td>\n      <td>NaN</td>\n      <td>2.30</td>\n      <td>24.5</td>\n      <td>NaN</td>\n      <td>2.22</td>\n      <td>2.45</td>\n      <td>0.40</td>\n      <td>1.90</td>\n      <td>2.12</td>\n      <td>NaN</td>\n      <td>2.78</td>\n      <td>342</td>\n    </tr>\n    <tr>\n      <th>193</th>\n      <td>3</td>\n      <td>12.88</td>\n      <td>NaN</td>\n      <td>2.40</td>\n      <td>20.0</td>\n      <td>NaN</td>\n      <td>1.30</td>\n      <td>1.22</td>\n      <td>0.24</td>\n      <td>0.83</td>\n      <td>5.40</td>\n      <td>NaN</td>\n      <td>1.42</td>\n      <td>530</td>\n    </tr>\n    <tr>\n      <th>194</th>\n      <td>3</td>\n      <td>12.81</td>\n      <td>NaN</td>\n      <td>2.40</td>\n      <td>24.0</td>\n      <td>NaN</td>\n      <td>1.15</td>\n      <td>1.09</td>\n      <td>0.27</td>\n      <td>0.83</td>\n      <td>5.70</td>\n      <td>NaN</td>\n      <td>1.36</td>\n      <td>560</td>\n    </tr>\n  </tbody>\n</table>\n<p>195 rows × 14 columns</p>\n</div>"
     },
     "execution_count": 7,
     "metadata": {},
     "output_type": "execute_result"
    }
   ],
   "source": [
    "data = pd.read_csv(\"Data/wine.csv\")\n",
    "\n",
    "data"
   ],
   "metadata": {
    "collapsed": false,
    "ExecuteTime": {
     "end_time": "2024-02-14T20:20:26.396792500Z",
     "start_time": "2024-02-14T20:20:26.021808300Z"
    }
   },
   "id": "b962064ddb4ecdcb"
  },
  {
   "cell_type": "code",
   "execution_count": 8,
   "outputs": [
    {
     "name": "stdout",
     "output_type": "stream",
     "text": [
      "(195, 14)\n"
     ]
    }
   ],
   "source": [
    "print(data.shape)"
   ],
   "metadata": {
    "collapsed": false,
    "ExecuteTime": {
     "end_time": "2024-02-14T20:20:26.396792500Z",
     "start_time": "2024-02-14T20:20:26.115576400Z"
    }
   },
   "id": "e4743b54670bcb48"
  },
  {
   "cell_type": "code",
   "execution_count": 9,
   "outputs": [
    {
     "data": {
      "text/plain": "            class     Alcohol   Malicacid         Ash  Alcalinity_of_ash  \\\ncount  195.000000  195.000000  178.000000  195.000000         195.000000   \nmean     1.912821   13.000974    2.336348    2.364410          19.408205   \nstd      0.771656    0.806856    1.117146    0.278364           3.489149   \nmin      1.000000   11.030000    0.740000    1.360000          10.600000   \n25%      1.000000   12.370000    1.602500    2.210000          17.000000   \n50%      2.000000   13.050000    1.865000    2.360000          19.400000   \n75%      3.000000   13.675000    3.082500    2.555000          21.500000   \nmax      3.000000   14.830000    5.800000    3.230000          30.000000   \n\n        Magnesium  Total_phenols  Flavanoids  Nonflavanoid_phenols  \\\ncount  178.000000     195.000000  195.000000            195.000000   \nmean    99.741573       2.305179    2.058410              0.358308   \nstd     14.282484       0.628875    1.000005              0.124742   \nmin     70.000000       0.980000    0.340000              0.130000   \n25%     88.000000       1.765000    1.220000              0.260000   \n50%     98.000000       2.360000    2.170000              0.320000   \n75%    107.000000       2.800000    2.895000              0.430000   \nmax    162.000000       3.880000    5.080000              0.660000   \n\n       Proanthocyanins  Color_intensity         Hue  \\\ncount       195.000000       195.000000  178.000000   \nmean          1.597487         5.012564    0.957449   \nstd           0.598467         2.277857    0.228572   \nmin           0.410000         1.280000    0.480000   \n25%           1.245000         3.190000    0.782500   \n50%           1.560000         4.700000    0.965000   \n75%           1.965000         6.165000    1.120000   \nmax           3.580000        13.000000    1.710000   \n\n       OD280/OD315_of_diluted_wines      Proline  \ncount                    195.000000   195.000000  \nmean                       2.616154   755.917949  \nstd                        0.710108   327.936462  \nmin                        1.270000   278.000000  \n25%                        1.945000   500.000000  \n50%                        2.780000   675.000000  \n75%                        3.170000  1027.500000  \nmax                        4.000000  1680.000000  ",
      "text/html": "<div>\n<style scoped>\n    .dataframe tbody tr th:only-of-type {\n        vertical-align: middle;\n    }\n\n    .dataframe tbody tr th {\n        vertical-align: top;\n    }\n\n    .dataframe thead th {\n        text-align: right;\n    }\n</style>\n<table border=\"1\" class=\"dataframe\">\n  <thead>\n    <tr style=\"text-align: right;\">\n      <th></th>\n      <th>class</th>\n      <th>Alcohol</th>\n      <th>Malicacid</th>\n      <th>Ash</th>\n      <th>Alcalinity_of_ash</th>\n      <th>Magnesium</th>\n      <th>Total_phenols</th>\n      <th>Flavanoids</th>\n      <th>Nonflavanoid_phenols</th>\n      <th>Proanthocyanins</th>\n      <th>Color_intensity</th>\n      <th>Hue</th>\n      <th>OD280/OD315_of_diluted_wines</th>\n      <th>Proline</th>\n    </tr>\n  </thead>\n  <tbody>\n    <tr>\n      <th>count</th>\n      <td>195.000000</td>\n      <td>195.000000</td>\n      <td>178.000000</td>\n      <td>195.000000</td>\n      <td>195.000000</td>\n      <td>178.000000</td>\n      <td>195.000000</td>\n      <td>195.000000</td>\n      <td>195.000000</td>\n      <td>195.000000</td>\n      <td>195.000000</td>\n      <td>178.000000</td>\n      <td>195.000000</td>\n      <td>195.000000</td>\n    </tr>\n    <tr>\n      <th>mean</th>\n      <td>1.912821</td>\n      <td>13.000974</td>\n      <td>2.336348</td>\n      <td>2.364410</td>\n      <td>19.408205</td>\n      <td>99.741573</td>\n      <td>2.305179</td>\n      <td>2.058410</td>\n      <td>0.358308</td>\n      <td>1.597487</td>\n      <td>5.012564</td>\n      <td>0.957449</td>\n      <td>2.616154</td>\n      <td>755.917949</td>\n    </tr>\n    <tr>\n      <th>std</th>\n      <td>0.771656</td>\n      <td>0.806856</td>\n      <td>1.117146</td>\n      <td>0.278364</td>\n      <td>3.489149</td>\n      <td>14.282484</td>\n      <td>0.628875</td>\n      <td>1.000005</td>\n      <td>0.124742</td>\n      <td>0.598467</td>\n      <td>2.277857</td>\n      <td>0.228572</td>\n      <td>0.710108</td>\n      <td>327.936462</td>\n    </tr>\n    <tr>\n      <th>min</th>\n      <td>1.000000</td>\n      <td>11.030000</td>\n      <td>0.740000</td>\n      <td>1.360000</td>\n      <td>10.600000</td>\n      <td>70.000000</td>\n      <td>0.980000</td>\n      <td>0.340000</td>\n      <td>0.130000</td>\n      <td>0.410000</td>\n      <td>1.280000</td>\n      <td>0.480000</td>\n      <td>1.270000</td>\n      <td>278.000000</td>\n    </tr>\n    <tr>\n      <th>25%</th>\n      <td>1.000000</td>\n      <td>12.370000</td>\n      <td>1.602500</td>\n      <td>2.210000</td>\n      <td>17.000000</td>\n      <td>88.000000</td>\n      <td>1.765000</td>\n      <td>1.220000</td>\n      <td>0.260000</td>\n      <td>1.245000</td>\n      <td>3.190000</td>\n      <td>0.782500</td>\n      <td>1.945000</td>\n      <td>500.000000</td>\n    </tr>\n    <tr>\n      <th>50%</th>\n      <td>2.000000</td>\n      <td>13.050000</td>\n      <td>1.865000</td>\n      <td>2.360000</td>\n      <td>19.400000</td>\n      <td>98.000000</td>\n      <td>2.360000</td>\n      <td>2.170000</td>\n      <td>0.320000</td>\n      <td>1.560000</td>\n      <td>4.700000</td>\n      <td>0.965000</td>\n      <td>2.780000</td>\n      <td>675.000000</td>\n    </tr>\n    <tr>\n      <th>75%</th>\n      <td>3.000000</td>\n      <td>13.675000</td>\n      <td>3.082500</td>\n      <td>2.555000</td>\n      <td>21.500000</td>\n      <td>107.000000</td>\n      <td>2.800000</td>\n      <td>2.895000</td>\n      <td>0.430000</td>\n      <td>1.965000</td>\n      <td>6.165000</td>\n      <td>1.120000</td>\n      <td>3.170000</td>\n      <td>1027.500000</td>\n    </tr>\n    <tr>\n      <th>max</th>\n      <td>3.000000</td>\n      <td>14.830000</td>\n      <td>5.800000</td>\n      <td>3.230000</td>\n      <td>30.000000</td>\n      <td>162.000000</td>\n      <td>3.880000</td>\n      <td>5.080000</td>\n      <td>0.660000</td>\n      <td>3.580000</td>\n      <td>13.000000</td>\n      <td>1.710000</td>\n      <td>4.000000</td>\n      <td>1680.000000</td>\n    </tr>\n  </tbody>\n</table>\n</div>"
     },
     "execution_count": 9,
     "metadata": {},
     "output_type": "execute_result"
    }
   ],
   "source": [
    "data.describe()"
   ],
   "metadata": {
    "collapsed": false,
    "ExecuteTime": {
     "end_time": "2024-02-14T20:20:26.412415200Z",
     "start_time": "2024-02-14T20:20:26.131202800Z"
    }
   },
   "id": "f48f2d5ba02ef565"
  },
  {
   "cell_type": "code",
   "execution_count": 10,
   "outputs": [
    {
     "data": {
      "text/plain": "Malicacid                       17\nMagnesium                       17\nHue                             17\nclass                            0\nAlcohol                          0\nAsh                              0\nAlcalinity_of_ash                0\nTotal_phenols                    0\nFlavanoids                       0\nNonflavanoid_phenols             0\nProanthocyanins                  0\nColor_intensity                  0\nOD280/OD315_of_diluted_wines     0\nProline                          0\ndtype: int64"
     },
     "execution_count": 10,
     "metadata": {},
     "output_type": "execute_result"
    }
   ],
   "source": [
    "null_data = data.isnull().sum().sort_values(ascending=False)\n",
    "null_data"
   ],
   "metadata": {
    "collapsed": false,
    "ExecuteTime": {
     "end_time": "2024-02-14T20:20:26.412415200Z",
     "start_time": "2024-02-14T20:20:26.193704100Z"
    }
   },
   "id": "73ce0f0be2083384"
  },
  {
   "cell_type": "code",
   "execution_count": 11,
   "outputs": [
    {
     "data": {
      "text/plain": "     class  Alcohol  Malicacid   Ash  Alcalinity_of_ash  Magnesium  \\\n0        1    14.23       1.71  2.43               15.6      127.0   \n1        1    13.20       1.78  2.14               11.2      100.0   \n2        1    13.16       2.36  2.67               18.6      101.0   \n3        1    14.37       1.95  2.50               16.8      113.0   \n4        1    13.24       2.59  2.87               21.0      118.0   \n..     ...      ...        ...   ...                ...        ...   \n173      3    13.71       5.65  2.45               20.5       95.0   \n174      3    13.40       3.91  2.48               23.0      102.0   \n175      3    13.27       4.28  2.26               20.0      120.0   \n176      3    13.17       2.59  2.37               20.0      120.0   \n177      3    14.13       4.10  2.74               24.5       96.0   \n\n     Total_phenols  Flavanoids  Nonflavanoid_phenols  Proanthocyanins  \\\n0             2.80        3.06                  0.28             2.29   \n1             2.65        2.76                  0.26             1.28   \n2             2.80        3.24                  0.30             2.81   \n3             3.85        3.49                  0.24             2.18   \n4             2.80        2.69                  0.39             1.82   \n..             ...         ...                   ...              ...   \n173           1.68        0.61                  0.52             1.06   \n174           1.80        0.75                  0.43             1.41   \n175           1.59        0.69                  0.43             1.35   \n176           1.65        0.68                  0.53             1.46   \n177           2.05        0.76                  0.56             1.35   \n\n     Color_intensity   Hue  OD280/OD315_of_diluted_wines  Proline  \n0               5.64  1.04                          3.92     1065  \n1               4.38  1.05                          3.40     1050  \n2               5.68  1.03                          3.17     1185  \n3               7.80  0.86                          3.45     1480  \n4               4.32  1.04                          2.93      735  \n..               ...   ...                           ...      ...  \n173             7.70  0.64                          1.74      740  \n174             7.30  0.70                          1.56      750  \n175            10.20  0.59                          1.56      835  \n176             9.30  0.60                          1.62      840  \n177             9.20  0.61                          1.60      560  \n\n[178 rows x 14 columns]",
      "text/html": "<div>\n<style scoped>\n    .dataframe tbody tr th:only-of-type {\n        vertical-align: middle;\n    }\n\n    .dataframe tbody tr th {\n        vertical-align: top;\n    }\n\n    .dataframe thead th {\n        text-align: right;\n    }\n</style>\n<table border=\"1\" class=\"dataframe\">\n  <thead>\n    <tr style=\"text-align: right;\">\n      <th></th>\n      <th>class</th>\n      <th>Alcohol</th>\n      <th>Malicacid</th>\n      <th>Ash</th>\n      <th>Alcalinity_of_ash</th>\n      <th>Magnesium</th>\n      <th>Total_phenols</th>\n      <th>Flavanoids</th>\n      <th>Nonflavanoid_phenols</th>\n      <th>Proanthocyanins</th>\n      <th>Color_intensity</th>\n      <th>Hue</th>\n      <th>OD280/OD315_of_diluted_wines</th>\n      <th>Proline</th>\n    </tr>\n  </thead>\n  <tbody>\n    <tr>\n      <th>0</th>\n      <td>1</td>\n      <td>14.23</td>\n      <td>1.71</td>\n      <td>2.43</td>\n      <td>15.6</td>\n      <td>127.0</td>\n      <td>2.80</td>\n      <td>3.06</td>\n      <td>0.28</td>\n      <td>2.29</td>\n      <td>5.64</td>\n      <td>1.04</td>\n      <td>3.92</td>\n      <td>1065</td>\n    </tr>\n    <tr>\n      <th>1</th>\n      <td>1</td>\n      <td>13.20</td>\n      <td>1.78</td>\n      <td>2.14</td>\n      <td>11.2</td>\n      <td>100.0</td>\n      <td>2.65</td>\n      <td>2.76</td>\n      <td>0.26</td>\n      <td>1.28</td>\n      <td>4.38</td>\n      <td>1.05</td>\n      <td>3.40</td>\n      <td>1050</td>\n    </tr>\n    <tr>\n      <th>2</th>\n      <td>1</td>\n      <td>13.16</td>\n      <td>2.36</td>\n      <td>2.67</td>\n      <td>18.6</td>\n      <td>101.0</td>\n      <td>2.80</td>\n      <td>3.24</td>\n      <td>0.30</td>\n      <td>2.81</td>\n      <td>5.68</td>\n      <td>1.03</td>\n      <td>3.17</td>\n      <td>1185</td>\n    </tr>\n    <tr>\n      <th>3</th>\n      <td>1</td>\n      <td>14.37</td>\n      <td>1.95</td>\n      <td>2.50</td>\n      <td>16.8</td>\n      <td>113.0</td>\n      <td>3.85</td>\n      <td>3.49</td>\n      <td>0.24</td>\n      <td>2.18</td>\n      <td>7.80</td>\n      <td>0.86</td>\n      <td>3.45</td>\n      <td>1480</td>\n    </tr>\n    <tr>\n      <th>4</th>\n      <td>1</td>\n      <td>13.24</td>\n      <td>2.59</td>\n      <td>2.87</td>\n      <td>21.0</td>\n      <td>118.0</td>\n      <td>2.80</td>\n      <td>2.69</td>\n      <td>0.39</td>\n      <td>1.82</td>\n      <td>4.32</td>\n      <td>1.04</td>\n      <td>2.93</td>\n      <td>735</td>\n    </tr>\n    <tr>\n      <th>...</th>\n      <td>...</td>\n      <td>...</td>\n      <td>...</td>\n      <td>...</td>\n      <td>...</td>\n      <td>...</td>\n      <td>...</td>\n      <td>...</td>\n      <td>...</td>\n      <td>...</td>\n      <td>...</td>\n      <td>...</td>\n      <td>...</td>\n      <td>...</td>\n    </tr>\n    <tr>\n      <th>173</th>\n      <td>3</td>\n      <td>13.71</td>\n      <td>5.65</td>\n      <td>2.45</td>\n      <td>20.5</td>\n      <td>95.0</td>\n      <td>1.68</td>\n      <td>0.61</td>\n      <td>0.52</td>\n      <td>1.06</td>\n      <td>7.70</td>\n      <td>0.64</td>\n      <td>1.74</td>\n      <td>740</td>\n    </tr>\n    <tr>\n      <th>174</th>\n      <td>3</td>\n      <td>13.40</td>\n      <td>3.91</td>\n      <td>2.48</td>\n      <td>23.0</td>\n      <td>102.0</td>\n      <td>1.80</td>\n      <td>0.75</td>\n      <td>0.43</td>\n      <td>1.41</td>\n      <td>7.30</td>\n      <td>0.70</td>\n      <td>1.56</td>\n      <td>750</td>\n    </tr>\n    <tr>\n      <th>175</th>\n      <td>3</td>\n      <td>13.27</td>\n      <td>4.28</td>\n      <td>2.26</td>\n      <td>20.0</td>\n      <td>120.0</td>\n      <td>1.59</td>\n      <td>0.69</td>\n      <td>0.43</td>\n      <td>1.35</td>\n      <td>10.20</td>\n      <td>0.59</td>\n      <td>1.56</td>\n      <td>835</td>\n    </tr>\n    <tr>\n      <th>176</th>\n      <td>3</td>\n      <td>13.17</td>\n      <td>2.59</td>\n      <td>2.37</td>\n      <td>20.0</td>\n      <td>120.0</td>\n      <td>1.65</td>\n      <td>0.68</td>\n      <td>0.53</td>\n      <td>1.46</td>\n      <td>9.30</td>\n      <td>0.60</td>\n      <td>1.62</td>\n      <td>840</td>\n    </tr>\n    <tr>\n      <th>177</th>\n      <td>3</td>\n      <td>14.13</td>\n      <td>4.10</td>\n      <td>2.74</td>\n      <td>24.5</td>\n      <td>96.0</td>\n      <td>2.05</td>\n      <td>0.76</td>\n      <td>0.56</td>\n      <td>1.35</td>\n      <td>9.20</td>\n      <td>0.61</td>\n      <td>1.60</td>\n      <td>560</td>\n    </tr>\n  </tbody>\n</table>\n<p>178 rows × 14 columns</p>\n</div>"
     },
     "execution_count": 11,
     "metadata": {},
     "output_type": "execute_result"
    }
   ],
   "source": [
    "data_null_droped = data.dropna(axis=0)\n",
    "\n",
    "data_null_droped"
   ],
   "metadata": {
    "collapsed": false,
    "ExecuteTime": {
     "end_time": "2024-02-14T20:20:26.412415200Z",
     "start_time": "2024-02-14T20:20:26.209292Z"
    }
   },
   "id": "4aacba912db5b302"
  },
  {
   "cell_type": "code",
   "execution_count": 12,
   "outputs": [
    {
     "name": "stdout",
     "output_type": "stream",
     "text": [
      "class                           0\n",
      "Alcohol                         0\n",
      "Malicacid                       0\n",
      "Ash                             0\n",
      "Alcalinity_of_ash               0\n",
      "Magnesium                       0\n",
      "Total_phenols                   0\n",
      "Flavanoids                      0\n",
      "Nonflavanoid_phenols            0\n",
      "Proanthocyanins                 0\n",
      "Color_intensity                 0\n",
      "Hue                             0\n",
      "OD280/OD315_of_diluted_wines    0\n",
      "Proline                         0\n",
      "dtype: int64\n"
     ]
    }
   ],
   "source": [
    "print(data_null_droped.isnull().sum().sort_values(ascending=False))"
   ],
   "metadata": {
    "collapsed": false,
    "ExecuteTime": {
     "end_time": "2024-02-14T20:20:26.412415200Z",
     "start_time": "2024-02-14T20:20:26.240568200Z"
    }
   },
   "id": "5fbf9eabf758b2fa"
  },
  {
   "cell_type": "code",
   "execution_count": 12,
   "outputs": [],
   "source": [],
   "metadata": {
    "collapsed": false,
    "ExecuteTime": {
     "end_time": "2024-02-14T20:20:26.412415200Z",
     "start_time": "2024-02-14T20:20:26.256199900Z"
    }
   },
   "id": "a3119901fc1c0f7e"
  },
  {
   "cell_type": "code",
   "execution_count": 13,
   "outputs": [
    {
     "data": {
      "text/plain": "     Alcohol  Malicacid   Ash  Alcalinity_of_ash  Magnesium  Total_phenols  \\\n0      14.23       1.71  2.43               15.6      127.0           2.80   \n1      13.20       1.78  2.14               11.2      100.0           2.65   \n2      13.16       2.36  2.67               18.6      101.0           2.80   \n3      14.37       1.95  2.50               16.8      113.0           3.85   \n4      13.24       2.59  2.87               21.0      118.0           2.80   \n..       ...        ...   ...                ...        ...            ...   \n173    13.71       5.65  2.45               20.5       95.0           1.68   \n174    13.40       3.91  2.48               23.0      102.0           1.80   \n175    13.27       4.28  2.26               20.0      120.0           1.59   \n176    13.17       2.59  2.37               20.0      120.0           1.65   \n177    14.13       4.10  2.74               24.5       96.0           2.05   \n\n     Flavanoids  Nonflavanoid_phenols  Proanthocyanins  Color_intensity   Hue  \\\n0          3.06                  0.28             2.29             5.64  1.04   \n1          2.76                  0.26             1.28             4.38  1.05   \n2          3.24                  0.30             2.81             5.68  1.03   \n3          3.49                  0.24             2.18             7.80  0.86   \n4          2.69                  0.39             1.82             4.32  1.04   \n..          ...                   ...              ...              ...   ...   \n173        0.61                  0.52             1.06             7.70  0.64   \n174        0.75                  0.43             1.41             7.30  0.70   \n175        0.69                  0.43             1.35            10.20  0.59   \n176        0.68                  0.53             1.46             9.30  0.60   \n177        0.76                  0.56             1.35             9.20  0.61   \n\n     OD280/OD315_of_diluted_wines  Proline  \n0                            3.92     1065  \n1                            3.40     1050  \n2                            3.17     1185  \n3                            3.45     1480  \n4                            2.93      735  \n..                            ...      ...  \n173                          1.74      740  \n174                          1.56      750  \n175                          1.56      835  \n176                          1.62      840  \n177                          1.60      560  \n\n[178 rows x 13 columns]",
      "text/html": "<div>\n<style scoped>\n    .dataframe tbody tr th:only-of-type {\n        vertical-align: middle;\n    }\n\n    .dataframe tbody tr th {\n        vertical-align: top;\n    }\n\n    .dataframe thead th {\n        text-align: right;\n    }\n</style>\n<table border=\"1\" class=\"dataframe\">\n  <thead>\n    <tr style=\"text-align: right;\">\n      <th></th>\n      <th>Alcohol</th>\n      <th>Malicacid</th>\n      <th>Ash</th>\n      <th>Alcalinity_of_ash</th>\n      <th>Magnesium</th>\n      <th>Total_phenols</th>\n      <th>Flavanoids</th>\n      <th>Nonflavanoid_phenols</th>\n      <th>Proanthocyanins</th>\n      <th>Color_intensity</th>\n      <th>Hue</th>\n      <th>OD280/OD315_of_diluted_wines</th>\n      <th>Proline</th>\n    </tr>\n  </thead>\n  <tbody>\n    <tr>\n      <th>0</th>\n      <td>14.23</td>\n      <td>1.71</td>\n      <td>2.43</td>\n      <td>15.6</td>\n      <td>127.0</td>\n      <td>2.80</td>\n      <td>3.06</td>\n      <td>0.28</td>\n      <td>2.29</td>\n      <td>5.64</td>\n      <td>1.04</td>\n      <td>3.92</td>\n      <td>1065</td>\n    </tr>\n    <tr>\n      <th>1</th>\n      <td>13.20</td>\n      <td>1.78</td>\n      <td>2.14</td>\n      <td>11.2</td>\n      <td>100.0</td>\n      <td>2.65</td>\n      <td>2.76</td>\n      <td>0.26</td>\n      <td>1.28</td>\n      <td>4.38</td>\n      <td>1.05</td>\n      <td>3.40</td>\n      <td>1050</td>\n    </tr>\n    <tr>\n      <th>2</th>\n      <td>13.16</td>\n      <td>2.36</td>\n      <td>2.67</td>\n      <td>18.6</td>\n      <td>101.0</td>\n      <td>2.80</td>\n      <td>3.24</td>\n      <td>0.30</td>\n      <td>2.81</td>\n      <td>5.68</td>\n      <td>1.03</td>\n      <td>3.17</td>\n      <td>1185</td>\n    </tr>\n    <tr>\n      <th>3</th>\n      <td>14.37</td>\n      <td>1.95</td>\n      <td>2.50</td>\n      <td>16.8</td>\n      <td>113.0</td>\n      <td>3.85</td>\n      <td>3.49</td>\n      <td>0.24</td>\n      <td>2.18</td>\n      <td>7.80</td>\n      <td>0.86</td>\n      <td>3.45</td>\n      <td>1480</td>\n    </tr>\n    <tr>\n      <th>4</th>\n      <td>13.24</td>\n      <td>2.59</td>\n      <td>2.87</td>\n      <td>21.0</td>\n      <td>118.0</td>\n      <td>2.80</td>\n      <td>2.69</td>\n      <td>0.39</td>\n      <td>1.82</td>\n      <td>4.32</td>\n      <td>1.04</td>\n      <td>2.93</td>\n      <td>735</td>\n    </tr>\n    <tr>\n      <th>...</th>\n      <td>...</td>\n      <td>...</td>\n      <td>...</td>\n      <td>...</td>\n      <td>...</td>\n      <td>...</td>\n      <td>...</td>\n      <td>...</td>\n      <td>...</td>\n      <td>...</td>\n      <td>...</td>\n      <td>...</td>\n      <td>...</td>\n    </tr>\n    <tr>\n      <th>173</th>\n      <td>13.71</td>\n      <td>5.65</td>\n      <td>2.45</td>\n      <td>20.5</td>\n      <td>95.0</td>\n      <td>1.68</td>\n      <td>0.61</td>\n      <td>0.52</td>\n      <td>1.06</td>\n      <td>7.70</td>\n      <td>0.64</td>\n      <td>1.74</td>\n      <td>740</td>\n    </tr>\n    <tr>\n      <th>174</th>\n      <td>13.40</td>\n      <td>3.91</td>\n      <td>2.48</td>\n      <td>23.0</td>\n      <td>102.0</td>\n      <td>1.80</td>\n      <td>0.75</td>\n      <td>0.43</td>\n      <td>1.41</td>\n      <td>7.30</td>\n      <td>0.70</td>\n      <td>1.56</td>\n      <td>750</td>\n    </tr>\n    <tr>\n      <th>175</th>\n      <td>13.27</td>\n      <td>4.28</td>\n      <td>2.26</td>\n      <td>20.0</td>\n      <td>120.0</td>\n      <td>1.59</td>\n      <td>0.69</td>\n      <td>0.43</td>\n      <td>1.35</td>\n      <td>10.20</td>\n      <td>0.59</td>\n      <td>1.56</td>\n      <td>835</td>\n    </tr>\n    <tr>\n      <th>176</th>\n      <td>13.17</td>\n      <td>2.59</td>\n      <td>2.37</td>\n      <td>20.0</td>\n      <td>120.0</td>\n      <td>1.65</td>\n      <td>0.68</td>\n      <td>0.53</td>\n      <td>1.46</td>\n      <td>9.30</td>\n      <td>0.60</td>\n      <td>1.62</td>\n      <td>840</td>\n    </tr>\n    <tr>\n      <th>177</th>\n      <td>14.13</td>\n      <td>4.10</td>\n      <td>2.74</td>\n      <td>24.5</td>\n      <td>96.0</td>\n      <td>2.05</td>\n      <td>0.76</td>\n      <td>0.56</td>\n      <td>1.35</td>\n      <td>9.20</td>\n      <td>0.61</td>\n      <td>1.60</td>\n      <td>560</td>\n    </tr>\n  </tbody>\n</table>\n<p>178 rows × 13 columns</p>\n</div>"
     },
     "execution_count": 13,
     "metadata": {},
     "output_type": "execute_result"
    }
   ],
   "source": [
    "x = data_null_droped.drop(\"class\", axis=1)\n",
    "x"
   ],
   "metadata": {
    "collapsed": false,
    "ExecuteTime": {
     "end_time": "2024-02-14T20:20:26.412415200Z",
     "start_time": "2024-02-14T20:20:26.271832200Z"
    }
   },
   "id": "4d6fe080ccd8f073"
  },
  {
   "cell_type": "code",
   "execution_count": 14,
   "outputs": [
    {
     "data": {
      "text/plain": "0      1\n1      1\n2      1\n3      1\n4      1\n      ..\n173    3\n174    3\n175    3\n176    3\n177    3\nName: class, Length: 178, dtype: int64"
     },
     "execution_count": 14,
     "metadata": {},
     "output_type": "execute_result"
    }
   ],
   "source": [
    "y = data_null_droped[\"class\"]\n",
    "# y = y.replace({1:\"red\", 2:\"white\", 3:\"pink\"})\n",
    "# y = np.array(y).reshape(-1, 1)\n",
    "y"
   ],
   "metadata": {
    "collapsed": false,
    "ExecuteTime": {
     "end_time": "2024-02-14T20:20:26.412415200Z",
     "start_time": "2024-02-14T20:20:26.303042500Z"
    }
   },
   "id": "7ca4f54aa7f3c36d"
  },
  {
   "cell_type": "code",
   "execution_count": 15,
   "outputs": [],
   "source": [
    "from sklearn.neighbors import KNeighborsClassifier\n",
    "from sklearn.model_selection import train_test_split\n",
    "from sklearn.metrics import accuracy_score, classification_report, confusion_matrix"
   ],
   "metadata": {
    "collapsed": false,
    "ExecuteTime": {
     "end_time": "2024-02-14T20:20:27.264885Z",
     "start_time": "2024-02-14T20:20:26.318667100Z"
    }
   },
   "id": "fbea3d790a15dfdd"
  },
  {
   "cell_type": "code",
   "execution_count": 16,
   "outputs": [
    {
     "name": "stdout",
     "output_type": "stream",
     "text": [
      "Données d'entrainement : \n",
      "      Alcohol  Malicacid   Ash  Alcalinity_of_ash  Magnesium  Total_phenols  \\\n",
      "173    13.71       5.65  2.45               20.5       95.0           1.68   \n",
      "2      13.16       2.36  2.67               18.6      101.0           2.80   \n",
      "70     12.29       1.61  2.21               20.4      103.0           1.10   \n",
      "163    12.96       3.45  2.35               18.5      106.0           1.39   \n",
      "6      14.39       1.87  2.45               14.6       96.0           2.50   \n",
      "\n",
      "     Flavanoids  Nonflavanoid_phenols  Proanthocyanins  Color_intensity  \\\n",
      "173        0.61                  0.52             1.06             7.70   \n",
      "2          3.24                  0.30             2.81             5.68   \n",
      "70         1.02                  0.37             1.46             3.05   \n",
      "163        0.70                  0.40             0.94             5.28   \n",
      "6          2.52                  0.30             1.98             5.25   \n",
      "\n",
      "       Hue  OD280/OD315_of_diluted_wines  Proline  \n",
      "173  0.640                          1.74      740  \n",
      "2    1.030                          3.17     1185  \n",
      "70   0.906                          1.82      870  \n",
      "163  0.680                          1.75      675  \n",
      "6    1.020                          3.58     1290   \n",
      " 173    3\n",
      "2      1\n",
      "70     2\n",
      "163    3\n",
      "6      1\n",
      "      ..\n",
      "133    3\n",
      "137    3\n",
      "72     2\n",
      "140    3\n",
      "37     1\n",
      "Name: class, Length: 101, dtype: int64\n",
      "==================================================================\n",
      "Données de teste : \n",
      "      Alcohol  Malicacid   Ash  Alcalinity_of_ash  Magnesium  Total_phenols  \\\n",
      "161    13.69       3.26  2.54               20.0      107.0           1.83   \n",
      "117    12.42       1.61  2.19               22.5      108.0           2.00   \n",
      "19     13.64       3.10  2.56               15.2      116.0           2.70   \n",
      "69     12.21       1.19  1.75               16.8      151.0           1.85   \n",
      "53     13.77       1.90  2.68               17.1      115.0           3.00   \n",
      "\n",
      "     Flavanoids  Nonflavanoid_phenols  Proanthocyanins  Color_intensity   Hue  \\\n",
      "161        0.56                  0.50             0.80             5.88  0.96   \n",
      "117        2.09                  0.34             1.61             2.06  1.06   \n",
      "19         3.03                  0.17             1.66             5.10  0.96   \n",
      "69         1.28                  0.14             2.50             2.85  1.28   \n",
      "53         2.79                  0.39             1.68             6.30  1.13   \n",
      "\n",
      "     OD280/OD315_of_diluted_wines  Proline  \n",
      "161                          1.82      680  \n",
      "117                          2.96      345  \n",
      "19                           3.36      845  \n",
      "69                           3.07      718  \n",
      "53                           2.93     1375   \n",
      " 161    3\n",
      "117    2\n",
      "19     1\n",
      "69     2\n",
      "53     1\n",
      "      ..\n",
      "168    3\n",
      "175    3\n",
      "118    2\n",
      "75     2\n",
      "21     1\n",
      "Name: class, Length: 77, dtype: int64\n"
     ]
    }
   ],
   "source": [
    "x_train, x_test, y_train, y_test = train_test_split(x, y, test_size=0.43, random_state=1)\n",
    "\n",
    "print(\"Données d'entrainement : \\n\", x_train.head(), \"\\n\", y_train)\n",
    "print(\"==================================================================\")\n",
    "print(\"Données de teste : \\n\", x_test.head(), \"\\n\", y_test)"
   ],
   "metadata": {
    "collapsed": false,
    "ExecuteTime": {
     "end_time": "2024-02-14T20:20:27.358441700Z",
     "start_time": "2024-02-14T20:20:27.264885Z"
    }
   },
   "id": "e1f684b765e41c8d"
  },
  {
   "cell_type": "code",
   "execution_count": 17,
   "outputs": [],
   "source": [
    "k_neighbor = KNeighborsClassifier(n_neighbors=35)"
   ],
   "metadata": {
    "collapsed": false,
    "ExecuteTime": {
     "end_time": "2024-02-14T20:20:27.374095500Z",
     "start_time": "2024-02-14T20:20:27.296005500Z"
    }
   },
   "id": "8df83b3cd8a6b150"
  },
  {
   "cell_type": "code",
   "execution_count": 18,
   "outputs": [
    {
     "data": {
      "text/plain": "KNeighborsClassifier(n_neighbors=35)"
     },
     "execution_count": 18,
     "metadata": {},
     "output_type": "execute_result"
    }
   ],
   "source": [
    "k_neighbor.fit(x_train, y_train)"
   ],
   "metadata": {
    "collapsed": false,
    "ExecuteTime": {
     "end_time": "2024-02-14T20:20:27.374095500Z",
     "start_time": "2024-02-14T20:20:27.311569700Z"
    }
   },
   "id": "57ee1b11a63e0ff6"
  },
  {
   "cell_type": "code",
   "execution_count": 19,
   "outputs": [
    {
     "name": "stdout",
     "output_type": "stream",
     "text": [
      "Y Predict : \n",
      " [3 2 3 3 1 3 2 1 2 2 1 3 2 1 2 2 2 1 2 1 1 2 3 1 3 3 1 1 1 3 2 3 2 1 3 2 2\n",
      " 3 2 1 1 2 2 3 1 1 3 1 1 1 2 3 3 1 2 1 1 2 3 2 2 1 3 3 2 1 2 1 2 1 2 3 3 3\n",
      " 2 2 3] \n",
      "\n",
      "Y True : \n",
      " 161    3\n",
      "117    2\n",
      "19     1\n",
      "69     2\n",
      "53     1\n",
      "      ..\n",
      "168    3\n",
      "175    3\n",
      "118    2\n",
      "75     2\n",
      "21     1\n",
      "Name: class, Length: 77, dtype: int64 \n"
     ]
    }
   ],
   "source": [
    "y_predict = k_neighbor.predict(x_test)\n",
    "\n",
    "print(\"Y Predict : \\n\", y_predict, \"\\n\")\n",
    "print(\"Y True : \\n\", y_test, \"\\n\")\n"
   ],
   "metadata": {
    "collapsed": false,
    "ExecuteTime": {
     "end_time": "2024-02-14T20:20:27.374095500Z",
     "start_time": "2024-02-14T20:20:27.342818500Z"
    }
   },
   "id": "716a59f45f2b1fb7"
  },
  {
   "cell_type": "code",
   "execution_count": 20,
   "outputs": [
    {
     "data": {
      "text/plain": "0.7662337662337663"
     },
     "execution_count": 20,
     "metadata": {},
     "output_type": "execute_result"
    }
   ],
   "source": [
    "y_score = k_neighbor.score(x_test, y_test)\n",
    "y_score"
   ],
   "metadata": {
    "collapsed": false,
    "ExecuteTime": {
     "end_time": "2024-02-14T20:20:27.483445600Z",
     "start_time": "2024-02-14T20:20:27.374095500Z"
    }
   },
   "id": "bc8d44a1ed0aaf49"
  },
  {
   "cell_type": "code",
   "execution_count": 21,
   "outputs": [
    {
     "name": "stdout",
     "output_type": "stream",
     "text": [
      "accuracy score :  0.7662337662337663\n"
     ]
    }
   ],
   "source": [
    "accur_score = accuracy_score(y_test, y_predict)\n",
    "print(\"accuracy score : \", accur_score)"
   ],
   "metadata": {
    "collapsed": false,
    "ExecuteTime": {
     "end_time": "2024-02-14T20:20:27.483445600Z",
     "start_time": "2024-02-14T20:20:27.405316600Z"
    }
   },
   "id": "bb0d6bd4c1aa08d0"
  },
  {
   "cell_type": "code",
   "execution_count": 22,
   "outputs": [
    {
     "name": "stdout",
     "output_type": "stream",
     "text": [
      "accuracy score : \n",
      "               precision    recall  f1-score   support\n",
      "\n",
      "           1       0.92      0.83      0.87        29\n",
      "           2       0.79      0.76      0.77        29\n",
      "           3       0.57      0.68      0.62        19\n",
      "\n",
      "    accuracy                           0.77        77\n",
      "   macro avg       0.76      0.76      0.75        77\n",
      "weighted avg       0.78      0.77      0.77        77\n"
     ]
    }
   ],
   "source": [
    "classifi_report = classification_report(y_test, y_predict)\n",
    "print(\"accuracy score : \\n\", classifi_report)"
   ],
   "metadata": {
    "collapsed": false,
    "ExecuteTime": {
     "end_time": "2024-02-14T20:20:27.483445600Z",
     "start_time": "2024-02-14T20:20:27.420943700Z"
    }
   },
   "id": "d44a895e1a7e41bd"
  },
  {
   "cell_type": "code",
   "execution_count": 23,
   "outputs": [
    {
     "name": "stdout",
     "output_type": "stream",
     "text": [
      "accuracy score : \n",
      "                Class 1 : (1)  Class 2 : (2)  Class 3 : (3)\n",
      "Class 1 : (1)             24              0              5\n",
      "Class 2 : (2)              2             22              5\n",
      "Class 3 : (3)              0              6             13\n"
     ]
    }
   ],
   "source": [
    "matrix_confusion = confusion_matrix(y_test, y_predict)\n",
    "entry_matrix = [\"Class 1 : (1)\",\"Class 2 : (2)\",\"Class 3 : (3)\"]\n",
    "\n",
    "\n",
    "print(\"accuracy score : \\n\", pd.DataFrame(matrix_confusion, columns=entry_matrix, index=entry_matrix))"
   ],
   "metadata": {
    "collapsed": false,
    "ExecuteTime": {
     "end_time": "2024-02-14T20:20:27.492097100Z",
     "start_time": "2024-02-14T20:20:27.436570100Z"
    }
   },
   "id": "5b6051643780497"
  },
  {
   "cell_type": "code",
   "execution_count": 24,
   "outputs": [],
   "source": [
    "import seaborn as sns"
   ],
   "metadata": {
    "collapsed": false,
    "ExecuteTime": {
     "end_time": "2024-02-14T20:20:27.492097100Z",
     "start_time": "2024-02-14T20:20:27.467818500Z"
    }
   },
   "id": "f5276f4a43e706d2"
  },
  {
   "cell_type": "code",
   "execution_count": 25,
   "outputs": [
    {
     "data": {
      "text/plain": "<AxesSubplot:>"
     },
     "execution_count": 25,
     "metadata": {},
     "output_type": "execute_result"
    },
    {
     "data": {
      "text/plain": "<Figure size 640x480 with 2 Axes>",
      "image/png": "[encoded data removed]"
     },
     "metadata": {},
     "output_type": "display_data"
    }
   ],
   "source": [
    "sns.heatmap(matrix_confusion, xticklabels=entry_matrix, yticklabels=entry_matrix, annot=True, cmap=\"Greens\")"
   ],
   "metadata": {
    "collapsed": false,
    "ExecuteTime": {
     "end_time": "2024-02-14T20:20:27.874519500Z",
     "start_time": "2024-02-14T20:20:27.483445600Z"
    }
   },
   "id": "838b734f2164513c"
  },
  {
   "cell_type": "markdown",
   "source": [
    "### Le model n'est pas performant. Creer une fonction qui test plusier variables k:"
   ],
   "metadata": {
    "collapsed": false
   },
   "id": "f6e13f2907d5772c"
  },
  {
   "cell_type": "code",
   "execution_count": 26,
   "outputs": [],
   "source": [
    "def k_nierest_test(x_test_, y_test_, x_train_, y_train_):\n",
    "    \n",
    "    k_array = np.arange(1, 100)\n",
    "    \n",
    "    y_predicts = []\n",
    "    y_scores = []\n",
    "    \n",
    "    for i in k_array:\n",
    "        k_neighbor_test = KNeighborsClassifier(n_neighbors=i)\n",
    "        \n",
    "        k_neighbor_test.fit(x_train_, y_train_) \n",
    "        y_predict_ = k_neighbor_test.predict(x_test_) \n",
    "        y_score_ = k_neighbor_test.score(x_test_, y_test_)\n",
    "        \n",
    "        y_predicts.append(y_predict_)\n",
    "        y_scores.append(y_score_)\n",
    "    \n",
    "    data_ = {\n",
    "        \"n_neighbor\" : k_array,\n",
    "        \"y_score\" : y_scores\n",
    "    }\n",
    "    \n",
    "    return pd.DataFrame(data_)\n",
    "    "
   ],
   "metadata": {
    "collapsed": false,
    "ExecuteTime": {
     "end_time": "2024-02-14T20:20:27.983919Z",
     "start_time": "2024-02-14T20:20:27.874519500Z"
    }
   },
   "id": "33ffa30104e67069"
  },
  {
   "cell_type": "code",
   "execution_count": 27,
   "outputs": [
    {
     "name": "stdout",
     "output_type": "stream",
     "text": [
      "    n_neighbor   y_score\n",
      "34          35  0.766234\n",
      "16          17  0.753247\n",
      "39          40  0.740260\n",
      "38          39  0.740260\n",
      "37          38  0.740260\n",
      "..         ...       ...\n",
      "94          95  0.376623\n",
      "95          96  0.376623\n",
      "96          97  0.376623\n",
      "97          98  0.376623\n",
      "98          99  0.376623\n",
      "\n",
      "[99 rows x 2 columns]\n"
     ]
    }
   ],
   "source": [
    "print(k_nierest_test(x_test, y_test, x_train, y_train).sort_values(by=\"y_score\", ascending=False))"
   ],
   "metadata": {
    "collapsed": false,
    "ExecuteTime": {
     "end_time": "2024-02-14T20:20:29.598691900Z",
     "start_time": "2024-02-14T20:20:27.890166600Z"
    }
   },
   "id": "8e49b5682121ed54"
  },
  {
   "cell_type": "code",
   "execution_count": 28,
   "outputs": [],
   "source": [
    "# pd.set_option('display.max_rows', None)"
   ],
   "metadata": {
    "collapsed": false,
    "ExecuteTime": {
     "end_time": "2024-02-14T20:20:29.614338400Z",
     "start_time": "2024-02-14T20:20:29.598691900Z"
    }
   },
   "id": "6ddce96a25152625"
  },
  {
   "cell_type": "markdown",
   "source": [
    "#### D'après le dataframe ci dessus on peut dire que le *n_neighbor=35* est plus fiable"
   ],
   "metadata": {
    "collapsed": false
   },
   "id": "16f83ab7b82428c0"
  },
  {
   "cell_type": "markdown",
   "source": [
    "# Essayons svm"
   ],
   "metadata": {
    "collapsed": false
   },
   "id": "8ce564f1289ca7ed"
  },
  {
   "cell_type": "code",
   "execution_count": 29,
   "outputs": [],
   "source": [
    "from sklearn.svm import SVC"
   ],
   "metadata": {
    "collapsed": false,
    "ExecuteTime": {
     "end_time": "2024-02-14T20:20:29.676838100Z",
     "start_time": "2024-02-14T20:20:29.614338400Z"
    }
   },
   "id": "b2aacafccfff53f7"
  },
  {
   "cell_type": "code",
   "execution_count": 96,
   "outputs": [],
   "source": [
    "# svc = SVC(kernel=\"linear\", C=0.025, random_state=42)\n",
    "\n",
    "svc = SVC(kernel=\"linear\", C=1.0, random_state=42)"
   ],
   "metadata": {
    "collapsed": false,
    "ExecuteTime": {
     "end_time": "2024-02-14T21:17:58.812963700Z",
     "start_time": "2024-02-14T21:17:58.781408100Z"
    }
   },
   "id": "31ebf5a0c9ea9bb1"
  },
  {
   "cell_type": "code",
   "execution_count": 97,
   "outputs": [
    {
     "data": {
      "text/plain": "SVC(kernel='linear', random_state=42)"
     },
     "execution_count": 97,
     "metadata": {},
     "output_type": "execute_result"
    }
   ],
   "source": [
    "svc.fit(x_train, y_train)"
   ],
   "metadata": {
    "collapsed": false,
    "ExecuteTime": {
     "end_time": "2024-02-14T21:17:59.063735600Z",
     "start_time": "2024-02-14T21:17:58.985587800Z"
    }
   },
   "id": "7a1b5548b34dba90"
  },
  {
   "cell_type": "code",
   "execution_count": 98,
   "outputs": [],
   "source": [
    "y_predict = svc.predict(x_test)"
   ],
   "metadata": {
    "collapsed": false,
    "ExecuteTime": {
     "end_time": "2024-02-14T21:17:59.281519700Z",
     "start_time": "2024-02-14T21:17:59.250268200Z"
    }
   },
   "id": "ef56bd35c387a920"
  },
  {
   "cell_type": "code",
   "execution_count": 99,
   "outputs": [
    {
     "name": "stdout",
     "output_type": "stream",
     "text": [
      "Vrai valeur de Y : \n",
      " 161    3\n",
      "117    2\n",
      "19     1\n",
      "69     2\n",
      "53     1\n",
      "      ..\n",
      "168    3\n",
      "175    3\n",
      "118    2\n",
      "75     2\n",
      "21     1\n",
      "Name: class, Length: 77, dtype: int64\n",
      "\n",
      "Prediction valeur de Y : \n",
      " [3 2 1 2 1 3 2 1 3 2 1 1 2 1 2 2 3 1 2 1 1 2 2 1 1 3 1 1 1 3 2 3 3 1 2 2 2\n",
      " 2 2 1 1 2 3 1 1 1 2 1 1 1 2 3 3 1 2 1 1 2 3 2 2 1 3 2 3 1 2 1 2 1 3 3 3 3\n",
      " 2 2 1]\n"
     ]
    }
   ],
   "source": [
    "print(\"Vrai valeur de Y : \\n\", y_test)\n",
    "print(\"\\nPrediction valeur de Y : \\n\", y_predict)"
   ],
   "metadata": {
    "collapsed": false,
    "ExecuteTime": {
     "end_time": "2024-02-14T21:17:59.453863Z",
     "start_time": "2024-02-14T21:17:59.422619900Z"
    }
   },
   "id": "9190143c73330d04"
  },
  {
   "cell_type": "code",
   "execution_count": 100,
   "outputs": [
    {
     "name": "stdout",
     "output_type": "stream",
     "text": [
      "Score :  0.961038961038961\n"
     ]
    }
   ],
   "source": [
    "score = svc.score(x_test, y_test)\n",
    "\n",
    "print(\"Score : \", score)\n",
    "\n",
    "# Score :  0.935064935064935 pour c=0.025\n",
    "# Score :  0.961038961038961 pour c=1.0"
   ],
   "metadata": {
    "collapsed": false,
    "ExecuteTime": {
     "end_time": "2024-02-14T21:17:59.673785600Z",
     "start_time": "2024-02-14T21:17:59.595653100Z"
    }
   },
   "id": "b2b314dbf75a141b"
  },
  {
   "cell_type": "code",
   "execution_count": 101,
   "outputs": [
    {
     "name": "stdout",
     "output_type": "stream",
     "text": [
      "0.961038961038961\n"
     ]
    }
   ],
   "source": [
    "from sklearn.metrics import accuracy_score\n",
    "\n",
    "accur_score_ = accuracy_score(y_test, y_predict)\n",
    "\n",
    "print(accur_score_)"
   ],
   "metadata": {
    "collapsed": false,
    "ExecuteTime": {
     "end_time": "2024-02-14T21:17:59.923722Z",
     "start_time": "2024-02-14T21:17:59.814343900Z"
    }
   },
   "id": "ce10286b1060acb7"
  },
  {
   "cell_type": "markdown",
   "source": [
    "#### Ce score montre que SVM est meilleure que KNN pour ces données"
   ],
   "metadata": {
    "collapsed": false
   },
   "id": "ccfc1f13cf740b82"
  },
  {
   "cell_type": "code",
   "execution_count": 102,
   "outputs": [
    {
     "name": "stdout",
     "output_type": "stream",
     "text": [
      "Matrice de confusion \n",
      "               Classe 1 (1)  Classe 2 (2)  Classe 3 (3)\n",
      "Classe 1 (1)            29             0             0\n",
      "Classe 2 (2)             2            27             0\n",
      "Classe 3 (3)             0             1            18\n"
     ]
    }
   ],
   "source": [
    "matrix_confusion = confusion_matrix(y_test, y_predict)\n",
    "\n",
    "entry_matrix = [\"Classe 1 (1)\", \"Classe 2 (2)\", \"Classe 3 (3)\"]\n",
    "\n",
    "print(\"Matrice de confusion \\n\", pd.DataFrame(matrix_confusion, columns=entry_matrix, index=entry_matrix))"
   ],
   "metadata": {
    "collapsed": false,
    "ExecuteTime": {
     "end_time": "2024-02-14T21:18:00.273065100Z",
     "start_time": "2024-02-14T21:18:00.194881Z"
    }
   },
   "id": "a72c416946ee9b2d"
  },
  {
   "cell_type": "code",
   "execution_count": 103,
   "outputs": [
    {
     "data": {
      "text/plain": "<AxesSubplot:>"
     },
     "execution_count": 103,
     "metadata": {},
     "output_type": "execute_result"
    },
    {
     "data": {
      "text/plain": "<Figure size 640x480 with 2 Axes>",
      "image/png": "[encoded data removed]"
     },
     "metadata": {},
     "output_type": "display_data"
    }
   ],
   "source": [
    "sns.heatmap(matrix_confusion, xticklabels=entry_matrix, yticklabels=entry_matrix, annot=True,)"
   ],
   "metadata": {
    "collapsed": false,
    "ExecuteTime": {
     "end_time": "2024-02-14T21:18:00.859117800Z",
     "start_time": "2024-02-14T21:18:00.429304100Z"
    }
   },
   "id": "fc0b59becada9ef9"
  },
  {
   "cell_type": "code",
   "execution_count": 104,
   "outputs": [
    {
     "name": "stdout",
     "output_type": "stream",
     "text": [
      "Rapport de classification \n",
      "               precision    recall  f1-score   support\n",
      "\n",
      "           1       0.94      1.00      0.97        29\n",
      "           2       0.96      0.93      0.95        29\n",
      "           3       1.00      0.95      0.97        19\n",
      "\n",
      "    accuracy                           0.96        77\n",
      "   macro avg       0.97      0.96      0.96        77\n",
      "weighted avg       0.96      0.96      0.96        77\n"
     ]
    }
   ],
   "source": [
    "classifi_report = classification_report(y_test, y_predict)\n",
    "\n",
    "print(\"Rapport de classification \\n\", classifi_report)"
   ],
   "metadata": {
    "collapsed": false,
    "ExecuteTime": {
     "end_time": "2024-02-14T21:18:00.984114Z",
     "start_time": "2024-02-14T21:18:00.859117800Z"
    }
   },
   "id": "4f2eba22b6eab224"
  },
  {
   "cell_type": "code",
   "execution_count": null,
   "outputs": [],
   "source": [],
   "metadata": {
    "collapsed": false
   },
   "id": "6c01c1b174d4e7d8"
  }
 ],
 "metadata": {
  "kernelspec": {
   "display_name": "Python 3",
   "language": "python",
   "name": "python3"
  },
  "language_info": {
   "codemirror_mode": {
    "name": "ipython",
    "version": 2
   },
   "file_extension": ".py",
   "mimetype": "text/x-python",
   "name": "python",
   "nbconvert_exporter": "python",
   "pygments_lexer": "ipython2",
   "version": "2.7.6"
  }
 },
 "nbformat": 4,
 "nbformat_minor": 5
}
